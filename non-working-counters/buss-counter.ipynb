{
 "cells": [
  {
   "cell_type": "code",
   "execution_count": 34,
   "metadata": {},
   "outputs": [],
   "source": [
    "import collections\n",
    "from collections import defaultdict"
   ]
  },
  {
   "cell_type": "code",
   "execution_count": 26,
   "metadata": {},
   "outputs": [],
   "source": [
    "def find_unique_sequences(sequence, k):\n",
    "    unique_sequences = set()\n",
    "    for i in range(len(sequence) - k + 1):\n",
    "        subsequence = sequence[i:i+k]\n",
    "        unique_sequences.add(subsequence)\n",
    "    return unique_sequences"
   ]
  },
  {
   "cell_type": "code",
   "execution_count": 27,
   "metadata": {},
   "outputs": [],
   "source": [
    "def compare_against_unique_sequences(unique_sequences, sequence, counts):\n",
    "    for unique_sequence in unique_sequences:\n",
    "        count = sequence.upper().count(unique_sequence.upper())\n",
    "        counts[unique_sequence] += count"
   ]
  },
  {
   "cell_type": "code",
   "execution_count": 33,
   "metadata": {},
   "outputs": [],
   "source": [
    "def write_output(counts, output_filename=\"output.txt\"):\n",
    "    with open(output_filename, 'w') as file:\n",
    "        for seq, count in counts.items():\n",
    "            file.write(f\"{seq} {count}\\n\")\n",
    "    print(f\"Wrote {seq} {count} to {output_filename}\")"
   ]
  },
  {
   "cell_type": "code",
   "execution_count": 30,
   "metadata": {},
   "outputs": [],
   "source": [
    "def read_fasta_large(filename):\n",
    "    counts = defaultdict(int)\n",
    "    current_sequence = \"\"\n",
    "    current_description = None\n",
    "    \n",
    "    with open(filename, 'r') as file:\n",
    "        for line in file:\n",
    "            line = line.strip()\n",
    "            if line.startswith(\">\"):\n",
    "                if current_description:\n",
    "                    compare_against_unique_sequences(current_description, current_sequence)\n",
    "                current_description = line[1:]\n",
    "                current_sequence = \"\"\n",
    "            else:\n",
    "                current_sequence += line\n",
    "                \n",
    "        if current_description:\n",
    "            compare_against_unique_sequences(current_description, current_sequence)\n",
    "\n",
    "    "
   ]
  },
  {
   "cell_type": "code",
   "execution_count": 29,
   "metadata": {},
   "outputs": [
    {
     "name": "stdout",
     "output_type": "stream",
     "text": [
      "Using this fasta file: SRR13259952.fasta.\n",
      "\n",
      "**************\n",
      "\n",
      "{'AAGGtCGTAGGTTCGACTCC', 'CCGATATAGCTCAGTTGGTA', 'TAGCTCAGTTGGTAGAGCAG', 'ATGCGAAGGtCGTAGGTTCG', 'GGTTCGACTCCTATTATCGG', 'TCGACTCCTATTATCGGCAC', 'CGTAATGCGAAGGtCGTAGG', 'AGGtCGTAGGTTCGACTCCT', 'AGCGCATTCGTAATGCGAAG', 'CAGTTGGTAGAGCAGCGCAT', 'AGAGCAGCGCATTCGTAATG', 'CGATATAGCTCAGTTGGTAG', 'TCAGTTGGTAGAGCAGCGCA', 'GAGCAGCGCATTCGTAATGC', 'GCAGCGCATTCGTAATGCGA', 'CGAAGGtCGTAGGTTCGACT', 'AGCTCAGTTGGTAGAGCAGC', 'CAGCGCATTCGTAATGCGAA', 'TCGTAATGCGAAGGtCGTAG', 'AATGCGAAGGtCGTAGGTTC', 'GCCGATATAGCTCAGTTGGT', 'AGCAGCGCATTCGTAATGCG', 'GCGAAGGtCGTAGGTTCGAC', 'TAGGTTCGACTCCTATTATC', 'TTGGTAGAGCAGCGCATTCG', 'GGTAGAGCAGCGCATTCGTA', 'GCTCAGTTGGTAGAGCAGCG', 'TATAGCTCAGTTGGTAGAGC', 'AGGTTCGACTCCTATTATCG', 'GTAGGTTCGACTCCTATTAT', 'GTTGGTAGAGCAGCGCATTC', 'GTAGAGCAGCGCATTCGTAA', 'ATTCGTAATGCGAAGGtCGT', 'GTAATGCGAAGGtCGTAGGT', 'AGTTGGTAGAGCAGCGCATT', 'GCATTCGTAATGCGAAGGtC', 'ATATAGCTCAGTTGGTAGAG', 'tCGTAGGTTCGACTCCTATT', 'GATATAGCTCAGTTGGTAGA', 'TAGAGCAGCGCATTCGTAAT', 'CGACTCCTATTATCGGCACC', 'TTCGACTCCTATTATCGGCA', 'GTTCGACTCCTATTATCGGC', 'TGCGAAGGtCGTAGGTTCGA', 'CGCATTCGTAATGCGAAGGt', 'TAATGCGAAGGtCGTAGGTT', 'ATAGCTCAGTTGGTAGAGCA', 'CATTCGTAATGCGAAGGtCG', 'GACTCCTATTATCGGCACCA', 'TGGTAGAGCAGCGCATTCGT', 'GCGCATTCGTAATGCGAAGG', 'CGTAGGTTCGACTCCTATTA', 'GGtCGTAGGTTCGACTCCTA', 'CTCAGTTGGTAGAGCAGCGC', 'GtCGTAGGTTCGACTCCTAT', 'GAAGGtCGTAGGTTCGACTC', 'TTCGTAATGCGAAGGtCGTA'}\n"
     ]
    }
   ],
   "source": [
    "if __name__ == \"__main__\":\n",
    "    # declaring files to use\n",
    "    unique_sequence_file = input(\"Enter the input file name with unique sequences: \")\n",
    "    print(f\"Ok. Unique sequences file set to: {unique_sequence_file}.\")\n",
    "\n",
    "    fasta_file = \"SRR13259952.fasta\"\n",
    "    print(f\"Using this fasta file: {fasta_file}.\")\n",
    "    print(\"\\n**************\\n\")\n",
    "\n",
    "\n",
    "    # Find the unique sequences\n",
    "    with open(unique_sequence_file, 'r') as file:\n",
    "        sequence = file.read().strip()\n",
    "        \n",
    "        k = 20 # length of the unique sequences\n",
    "        unique_sequences = find_unique_sequences(sequence, k)\n",
    "        # NOTE: We confirmed that these are good\n",
    "\n",
    "    # reading and searching the fasta file via streaming\n",
    "    read_fasta_large(fasta_file)\n",
    "\n",
    "    # writing the output to file\n",
    "    \n",
    "\n",
    "    "
   ]
  },
  {
   "cell_type": "code",
   "execution_count": null,
   "metadata": {},
   "outputs": [],
   "source": []
  },
  {
   "cell_type": "markdown",
   "metadata": {},
   "source": [
    "## These are the unique sequences in Salmon.txt\n",
    "{'AAGGtCGTAGGTTCGACTCC', 'CCGATATAGCTCAGTTGGTA', 'TAGCTCAGTTGGTAGAGCAG', 'ATGCGAAGGtCGTAGGTTCG', 'GGTTCGACTCCTATTATCGG', 'TCGACTCCTATTATCGGCAC', 'CGTAATGCGAAGGtCGTAGG', 'AGGtCGTAGGTTCGACTCCT', 'AGCGCATTCGTAATGCGAAG', 'CAGTTGGTAGAGCAGCGCAT', 'AGAGCAGCGCATTCGTAATG', 'CGATATAGCTCAGTTGGTAG', 'TCAGTTGGTAGAGCAGCGCA', 'GAGCAGCGCATTCGTAATGC', 'GCAGCGCATTCGTAATGCGA', 'CGAAGGtCGTAGGTTCGACT', 'AGCTCAGTTGGTAGAGCAGC', 'CAGCGCATTCGTAATGCGAA', 'TCGTAATGCGAAGGtCGTAG', 'AATGCGAAGGtCGTAGGTTC', 'GCCGATATAGCTCAGTTGGT', 'AGCAGCGCATTCGTAATGCG', 'GCGAAGGtCGTAGGTTCGAC', 'TAGGTTCGACTCCTATTATC', 'TTGGTAGAGCAGCGCATTCG', 'GGTAGAGCAGCGCATTCGTA', 'GCTCAGTTGGTAGAGCAGCG', 'TATAGCTCAGTTGGTAGAGC', 'AGGTTCGACTCCTATTATCG', 'GTAGGTTCGACTCCTATTAT', 'GTTGGTAGAGCAGCGCATTC', 'GTAGAGCAGCGCATTCGTAA', 'ATTCGTAATGCGAAGGtCGT', 'GTAATGCGAAGGtCGTAGGT', 'AGTTGGTAGAGCAGCGCATT', 'GCATTCGTAATGCGAAGGtC', 'ATATAGCTCAGTTGGTAGAG', 'tCGTAGGTTCGACTCCTATT', 'GATATAGCTCAGTTGGTAGA', 'TAGAGCAGCGCATTCGTAAT', 'CGACTCCTATTATCGGCACC', 'TTCGACTCCTATTATCGGCA', 'GTTCGACTCCTATTATCGGC', 'TGCGAAGGtCGTAGGTTCGA', 'CGCATTCGTAATGCGAAGGt', 'TAATGCGAAGGtCGTAGGTT', 'ATAGCTCAGTTGGTAGAGCA', 'CATTCGTAATGCGAAGGtCG', 'GACTCCTATTATCGGCACCA', 'TGGTAGAGCAGCGCATTCGT', 'GCGCATTCGTAATGCGAAGG', 'CGTAGGTTCGACTCCTATTA', 'GGtCGTAGGTTCGACTCCTA', 'CTCAGTTGGTAGAGCAGCGC', 'GtCGTAGGTTCGACTCCTAT', 'GAAGGtCGTAGGTTCGACTC', 'TTCGTAATGCGAAGGtCGTA'}"
   ]
  }
 ],
 "metadata": {
  "kernelspec": {
   "display_name": ".venv",
   "language": "python",
   "name": "python3"
  },
  "language_info": {
   "codemirror_mode": {
    "name": "ipython",
    "version": 3
   },
   "file_extension": ".py",
   "mimetype": "text/x-python",
   "name": "python",
   "nbconvert_exporter": "python",
   "pygments_lexer": "ipython3",
   "version": "3.11.0"
  }
 },
 "nbformat": 4,
 "nbformat_minor": 2
}
